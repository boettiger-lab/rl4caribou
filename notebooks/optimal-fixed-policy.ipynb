{
 "cells": [
  {
   "cell_type": "markdown",
   "id": "ba1c2a7a-d99f-499d-9481-f5516c547246",
   "metadata": {},
   "source": [
    "This notebook tries to search for optimal fixed policies (e.g. constant mortality) that maximize the objective (i.e. expected net reward). Here I try [scikit-optimize](https://scikit-optimize.github.io/stable/index.html) routines which are designed for noisy functions and compare to a brute-force parallel grid search.  "
   ]
  },
  {
   "cell_type": "code",
   "execution_count": 1,
   "id": "f15d4b8e-ef57-4bce-899b-89bb32d396f6",
   "metadata": {
    "scrolled": true
   },
   "outputs": [],
   "source": [
    "# %pip install -e ..\n",
    "# %pip install scikit-optimize"
   ]
  },
  {
   "cell_type": "code",
   "execution_count": 1,
   "id": "8a7920aa-5e69-4690-be6d-f03308ddf449",
   "metadata": {},
   "outputs": [],
   "source": [
    "from rl4caribou import Caribou\n",
    "from skopt import gp_minimize, gbrt_minimize\n",
    "import polars as pl\n",
    "import numpy as np\n",
    "from plotnine import ggplot, aes, geom_point, geom_ribbon\n",
    "\n",
    "import pandas as pd\n",
    "from skopt.plots import plot_objective, plot_convergence\n"
   ]
  },
  {
   "cell_type": "markdown",
   "id": "49794040-34a0-4491-8a3d-12ad3f114068",
   "metadata": {},
   "source": [
    "Here is an example of a simple fixed action policy.  It will apply a fixed hunting effort (potentially zero) each year to Moose, and another fixed effort to Wolves.  "
   ]
  },
  {
   "cell_type": "code",
   "execution_count": 2,
   "id": "51c9e6d9-9299-4296-b647-cf498b0b92cb",
   "metadata": {},
   "outputs": [],
   "source": [
    "class fixed_effort:\n",
    "    def __init__(self, effort):\n",
    "        self.effort = np.array(effort, dtype=np.float32)\n",
    "\n",
    "    def predict(self, observation, **kwargs):\n",
    "        action = self.effort * 2 - 1\n",
    "        return action, {}\n",
    "\n",
    "pacifist = fixed_effort([0., 0.])"
   ]
  },
  {
   "cell_type": "code",
   "execution_count": 3,
   "id": "cdeb4bd8-9620-4c4f-829d-a3a2c0e8dfd3",
   "metadata": {},
   "outputs": [
    {
     "data": {
      "text/plain": [
       "(array([-0.88323575, -0.9932028 , -0.81746125], dtype=float32),\n",
       " -6.324660778045655e-05,\n",
       " False,\n",
       " False,\n",
       " {})"
      ]
     },
     "execution_count": 3,
     "metadata": {},
     "output_type": "execute_result"
    }
   ],
   "source": [
    "am = {\"current\": 1, \"full_rest\": 0.5}\n",
    "ab = {\"current\": 5, \"full_rest\": 1}\n",
    "\n",
    "parameters = {\n",
    "    \"r_m\": np.float32(0.5),\n",
    "    \"r_b\": np.float32(0.45),\n",
    "    #\n",
    "    \"alpha_mm\": np.float32(0.1),\n",
    "    \"alpha_bb\": np.float32(0.1),\n",
    "    \"alpha_bm\": np.float32(0.05),\n",
    "    \"alpha_mb\": np.float32(0.05),\n",
    "    #\n",
    "    \"a_M\": am[\"current\"],\n",
    "    \"a_B\": ab[\"current\"],\n",
    "    # \"a_M\": 1,\n",
    "    # \"a_B\": 2,\n",
    "    #\n",
    "    \"K_m\": np.float32(1.1),\n",
    "    \"K_b\": np.float32(0.40),\n",
    "    #\n",
    "    \"h_B\": np.float32(0.031),\n",
    "    \"h_M\": np.float32(0.31),\n",
    "    #\n",
    "    \"x\": np.float32(2),\n",
    "    \"u\": np.float32(1),\n",
    "    \"d\": np.float32(0.3),\n",
    "    #\n",
    "    \"sigma_M\": np.float32(0.2),\n",
    "    \"sigma_B\": np.float32(0.25),\n",
    "    \"sigma_W\": np.float32(0.2),\n",
    "    # \"sigma_M\": np.float32(0.),\n",
    "    # \"sigma_B\": np.float32(0.),\n",
    "    # \"sigma_W\": np.float32(0.),\n",
    "    \"additive_sigma\": np.float32(0.005),\n",
    "}\n",
    "\n",
    "\n",
    "config = {\n",
    "    'parameters': parameters,\n",
    "    'initial_pop': np.float32([0.572079, 0.025453, 0.911731]),\n",
    "    # ^ use convergence point for null action and no stochasticity\n",
    "}\n",
    "\n",
    "env = Caribou(config=config)\n",
    "obs = env.reset()\n",
    "action, _ = pacifist.predict(obs)\n",
    "env.step(action)"
   ]
  },
  {
   "cell_type": "markdown",
   "id": "8a5b4db8-e98f-482e-b2b8-751bee389cc1",
   "metadata": {},
   "source": [
    "## Fixed policy evaluation helpers\n",
    "\n",
    "This function simulates the dynamics under any given manager.  Each timestep, the manager gets an observation of the population (Caribou, Moose, Wolves), and decides (\"predicts\") what harvest action to take on wolves and moose to maximize the overall net utility over the full simulation.\n",
    "\n",
    "A helper utility runs this simulation 10 times and returns the mean and summary statistics.  "
   ]
  },
  {
   "cell_type": "code",
   "execution_count": 4,
   "id": "6fa4681c-fbca-4ade-a8ab-e021cd9d07e5",
   "metadata": {},
   "outputs": [],
   "source": [
    "import ray\n",
    "\n",
    "@ray.remote\n",
    "def gen_ep_rew(manager, env):\n",
    "    episode_reward = 0.0\n",
    "    observation, _ = env.reset()\n",
    "    for t in range(env.Tmax):\n",
    "        action, _ = manager.predict(observation)\n",
    "        observation, reward, terminated, done, info = env.step(action)\n",
    "        episode_reward += reward\n",
    "        if terminated or done:\n",
    "            break\n",
    "    return episode_reward\n",
    "\n",
    "def gather_stats(manager, env, N=200):\n",
    "    results = ray.get(\n",
    "        [gen_ep_rew.remote(manager, env) for _ in range(N)]\n",
    "    )\n",
    "    ray.shutdown()\n",
    "    #\n",
    "    y = np.mean(results)\n",
    "    sigma = np.std(results)\n",
    "    ymin = y - sigma\n",
    "    ymax = y + sigma\n",
    "    return y, ymin, ymax "
   ]
  },
  {
   "cell_type": "code",
   "execution_count": 9,
   "id": "f3ddd3b8-6696-4f0d-a9a1-c6d722deb3b1",
   "metadata": {
    "scrolled": true
   },
   "outputs": [
    {
     "name": "stderr",
     "output_type": "stream",
     "text": [
      "2024-05-16 22:25:38,232\tINFO worker.py:1749 -- Started a local Ray instance.\n"
     ]
    },
    {
     "data": {
      "text/plain": [
       "(-5.567889918454439, -6.924977668806896, -4.210802168101981)"
      ]
     },
     "execution_count": 9,
     "metadata": {},
     "output_type": "execute_result"
    }
   ],
   "source": [
    "gather_stats(pacifist, env)"
   ]
  },
  {
   "cell_type": "markdown",
   "id": "95cc6d29-7dde-4785-9f64-8562ce093f36",
   "metadata": {},
   "source": [
    "## Determine optimal mortality policy\n",
    "\n",
    "Use Bayesian optimization techniques for nonlinear and stochastic functions from Scikit-Optimize (e.g. Gaussian Process estimation) to estimate the optimal fixed mortality policy for both wolves and moose: (err, maybe this can be done analytically too).  Note we define the function to be minimized, `g(x)` as a function of the actions, `x`. Note we report the _negative_ mean reward since the optimizer tries to _minimize_ the value.  "
   ]
  },
  {
   "cell_type": "code",
   "execution_count": 5,
   "id": "d876df99-b2ab-49ab-aaa0-3b545cc7ae4b",
   "metadata": {},
   "outputs": [],
   "source": [
    "def g(x):\n",
    "    manager = fixed_effort(x)\n",
    "    out = gather_stats(manager, env)\n",
    "    return - out[0]"
   ]
  },
  {
   "cell_type": "code",
   "execution_count": 12,
   "id": "049ba8a4-b81f-4b31-815b-be7970cba35d",
   "metadata": {
    "scrolled": true
   },
   "outputs": [
    {
     "name": "stdout",
     "output_type": "stream",
     "text": [
      "Iteration No: 1 started. Evaluating function at random point.\n"
     ]
    },
    {
     "name": "stderr",
     "output_type": "stream",
     "text": [
      "2024-05-16 22:26:41,368\tINFO worker.py:1749 -- Started a local Ray instance.\n"
     ]
    },
    {
     "name": "stdout",
     "output_type": "stream",
     "text": [
      "Iteration No: 1 ended. Evaluation done at random point.\n",
      "Time taken: 6.9099\n",
      "Function value obtained: 8.3944\n",
      "Current minimum: 8.3944\n",
      "Iteration No: 2 started. Evaluating function at random point.\n"
     ]
    },
    {
     "name": "stderr",
     "output_type": "stream",
     "text": [
      "2024-05-16 22:26:48,140\tINFO worker.py:1749 -- Started a local Ray instance.\n"
     ]
    },
    {
     "name": "stdout",
     "output_type": "stream",
     "text": [
      "Iteration No: 2 ended. Evaluation done at random point.\n",
      "Time taken: 6.6931\n",
      "Function value obtained: 8.5189\n",
      "Current minimum: 8.3944\n",
      "Iteration No: 3 started. Evaluating function at random point.\n"
     ]
    },
    {
     "name": "stderr",
     "output_type": "stream",
     "text": [
      "2024-05-16 22:26:54,954\tINFO worker.py:1749 -- Started a local Ray instance.\n"
     ]
    },
    {
     "name": "stdout",
     "output_type": "stream",
     "text": [
      "Iteration No: 3 ended. Evaluation done at random point.\n",
      "Time taken: 6.8978\n",
      "Function value obtained: 7.8332\n",
      "Current minimum: 7.8332\n",
      "Iteration No: 4 started. Evaluating function at random point.\n"
     ]
    },
    {
     "name": "stderr",
     "output_type": "stream",
     "text": [
      "2024-05-16 22:27:01,789\tINFO worker.py:1749 -- Started a local Ray instance.\n"
     ]
    },
    {
     "name": "stdout",
     "output_type": "stream",
     "text": [
      "Iteration No: 4 ended. Evaluation done at random point.\n",
      "Time taken: 6.5554\n",
      "Function value obtained: 6.4482\n",
      "Current minimum: 6.4482\n",
      "Iteration No: 5 started. Evaluating function at random point.\n"
     ]
    },
    {
     "name": "stderr",
     "output_type": "stream",
     "text": [
      "2024-05-16 22:27:08,324\tINFO worker.py:1749 -- Started a local Ray instance.\n"
     ]
    },
    {
     "name": "stdout",
     "output_type": "stream",
     "text": [
      "Iteration No: 5 ended. Evaluation done at random point.\n",
      "Time taken: 6.7635\n",
      "Function value obtained: 7.8851\n",
      "Current minimum: 6.4482\n",
      "Iteration No: 6 started. Evaluating function at random point.\n"
     ]
    },
    {
     "name": "stderr",
     "output_type": "stream",
     "text": [
      "2024-05-16 22:27:15,202\tINFO worker.py:1749 -- Started a local Ray instance.\n"
     ]
    },
    {
     "name": "stdout",
     "output_type": "stream",
     "text": [
      "Iteration No: 6 ended. Evaluation done at random point.\n",
      "Time taken: 6.6887\n",
      "Function value obtained: 7.4570\n",
      "Current minimum: 6.4482\n",
      "Iteration No: 7 started. Evaluating function at random point.\n"
     ]
    },
    {
     "name": "stderr",
     "output_type": "stream",
     "text": [
      "2024-05-16 22:27:21,924\tINFO worker.py:1749 -- Started a local Ray instance.\n"
     ]
    },
    {
     "name": "stdout",
     "output_type": "stream",
     "text": [
      "Iteration No: 7 ended. Evaluation done at random point.\n",
      "Time taken: 6.7629\n",
      "Function value obtained: 7.4776\n",
      "Current minimum: 6.4482\n",
      "Iteration No: 8 started. Evaluating function at random point.\n"
     ]
    },
    {
     "name": "stderr",
     "output_type": "stream",
     "text": [
      "2024-05-16 22:27:28,673\tINFO worker.py:1749 -- Started a local Ray instance.\n"
     ]
    },
    {
     "name": "stdout",
     "output_type": "stream",
     "text": [
      "Iteration No: 8 ended. Evaluation done at random point.\n",
      "Time taken: 6.6721\n",
      "Function value obtained: 8.2757\n",
      "Current minimum: 6.4482\n",
      "Iteration No: 9 started. Evaluating function at random point.\n"
     ]
    },
    {
     "name": "stderr",
     "output_type": "stream",
     "text": [
      "2024-05-16 22:27:35,228\tINFO worker.py:1749 -- Started a local Ray instance.\n"
     ]
    },
    {
     "name": "stdout",
     "output_type": "stream",
     "text": [
      "Iteration No: 9 ended. Evaluation done at random point.\n",
      "Time taken: 6.4267\n",
      "Function value obtained: 3.4761\n",
      "Current minimum: 3.4761\n",
      "Iteration No: 10 started. Evaluating function at random point.\n"
     ]
    },
    {
     "name": "stderr",
     "output_type": "stream",
     "text": [
      "2024-05-16 22:27:41,699\tINFO worker.py:1749 -- Started a local Ray instance.\n"
     ]
    },
    {
     "name": "stdout",
     "output_type": "stream",
     "text": [
      "Iteration No: 10 ended. Evaluation done at random point.\n",
      "Time taken: 6.8884\n",
      "Function value obtained: 7.7584\n",
      "Current minimum: 3.4761\n",
      "Iteration No: 11 started. Searching for the next optimal point.\n"
     ]
    },
    {
     "name": "stderr",
     "output_type": "stream",
     "text": [
      "2024-05-16 22:27:48,590\tINFO worker.py:1749 -- Started a local Ray instance.\n"
     ]
    },
    {
     "name": "stdout",
     "output_type": "stream",
     "text": [
      "Iteration No: 11 ended. Search finished for the next optimal point.\n",
      "Time taken: 6.9206\n",
      "Function value obtained: 7.7113\n",
      "Current minimum: 3.4761\n",
      "Iteration No: 12 started. Searching for the next optimal point.\n"
     ]
    },
    {
     "name": "stderr",
     "output_type": "stream",
     "text": [
      "2024-05-16 22:27:55,490\tINFO worker.py:1749 -- Started a local Ray instance.\n"
     ]
    },
    {
     "name": "stdout",
     "output_type": "stream",
     "text": [
      "Iteration No: 12 ended. Search finished for the next optimal point.\n",
      "Time taken: 7.0718\n",
      "Function value obtained: 3.6899\n",
      "Current minimum: 3.4761\n",
      "Iteration No: 13 started. Searching for the next optimal point.\n"
     ]
    },
    {
     "name": "stderr",
     "output_type": "stream",
     "text": [
      "2024-05-16 22:28:02,737\tINFO worker.py:1749 -- Started a local Ray instance.\n"
     ]
    },
    {
     "name": "stdout",
     "output_type": "stream",
     "text": [
      "Iteration No: 13 ended. Search finished for the next optimal point.\n",
      "Time taken: 7.3528\n",
      "Function value obtained: 8.1123\n",
      "Current minimum: 3.4761\n",
      "Iteration No: 14 started. Searching for the next optimal point.\n"
     ]
    },
    {
     "name": "stderr",
     "output_type": "stream",
     "text": [
      "2024-05-16 22:28:10,032\tINFO worker.py:1749 -- Started a local Ray instance.\n"
     ]
    },
    {
     "name": "stdout",
     "output_type": "stream",
     "text": [
      "Iteration No: 14 ended. Search finished for the next optimal point.\n",
      "Time taken: 7.2734\n",
      "Function value obtained: 6.6178\n",
      "Current minimum: 3.4761\n",
      "Iteration No: 15 started. Searching for the next optimal point.\n"
     ]
    },
    {
     "name": "stderr",
     "output_type": "stream",
     "text": [
      "2024-05-16 22:28:17,313\tINFO worker.py:1749 -- Started a local Ray instance.\n"
     ]
    },
    {
     "name": "stdout",
     "output_type": "stream",
     "text": [
      "Iteration No: 15 ended. Search finished for the next optimal point.\n",
      "Time taken: 6.9263\n",
      "Function value obtained: 3.8129\n",
      "Current minimum: 3.4761\n",
      "Iteration No: 16 started. Searching for the next optimal point.\n"
     ]
    },
    {
     "name": "stderr",
     "output_type": "stream",
     "text": [
      "2024-05-16 22:28:24,228\tINFO worker.py:1749 -- Started a local Ray instance.\n"
     ]
    },
    {
     "name": "stdout",
     "output_type": "stream",
     "text": [
      "Iteration No: 16 ended. Search finished for the next optimal point.\n",
      "Time taken: 7.4502\n",
      "Function value obtained: 3.3117\n",
      "Current minimum: 3.3117\n",
      "Iteration No: 17 started. Searching for the next optimal point.\n"
     ]
    },
    {
     "name": "stderr",
     "output_type": "stream",
     "text": [
      "2024-05-16 22:28:31,652\tINFO worker.py:1749 -- Started a local Ray instance.\n"
     ]
    },
    {
     "name": "stdout",
     "output_type": "stream",
     "text": [
      "Iteration No: 17 ended. Search finished for the next optimal point.\n",
      "Time taken: 7.2443\n",
      "Function value obtained: 2.7624\n",
      "Current minimum: 2.7624\n",
      "Iteration No: 18 started. Searching for the next optimal point.\n"
     ]
    },
    {
     "name": "stderr",
     "output_type": "stream",
     "text": [
      "2024-05-16 22:28:38,831\tINFO worker.py:1749 -- Started a local Ray instance.\n"
     ]
    },
    {
     "name": "stdout",
     "output_type": "stream",
     "text": [
      "Iteration No: 18 ended. Search finished for the next optimal point.\n",
      "Time taken: 7.2384\n",
      "Function value obtained: 3.4623\n",
      "Current minimum: 2.7624\n",
      "Iteration No: 19 started. Searching for the next optimal point.\n"
     ]
    },
    {
     "name": "stderr",
     "output_type": "stream",
     "text": [
      "2024-05-16 22:28:46,141\tINFO worker.py:1749 -- Started a local Ray instance.\n"
     ]
    },
    {
     "name": "stdout",
     "output_type": "stream",
     "text": [
      "Iteration No: 19 ended. Search finished for the next optimal point.\n",
      "Time taken: 7.2537\n",
      "Function value obtained: 1.8911\n",
      "Current minimum: 1.8911\n",
      "Iteration No: 20 started. Searching for the next optimal point.\n"
     ]
    },
    {
     "name": "stderr",
     "output_type": "stream",
     "text": [
      "2024-05-16 22:28:53,438\tINFO worker.py:1749 -- Started a local Ray instance.\n"
     ]
    },
    {
     "name": "stdout",
     "output_type": "stream",
     "text": [
      "Iteration No: 20 ended. Search finished for the next optimal point.\n",
      "Time taken: 7.3900\n",
      "Function value obtained: 2.7528\n",
      "Current minimum: 1.8911\n",
      "Iteration No: 21 started. Searching for the next optimal point.\n"
     ]
    },
    {
     "name": "stderr",
     "output_type": "stream",
     "text": [
      "2024-05-16 22:29:00,823\tINFO worker.py:1749 -- Started a local Ray instance.\n"
     ]
    },
    {
     "name": "stdout",
     "output_type": "stream",
     "text": [
      "Iteration No: 21 ended. Search finished for the next optimal point.\n",
      "Time taken: 7.0239\n",
      "Function value obtained: 1.7782\n",
      "Current minimum: 1.7782\n",
      "Iteration No: 22 started. Searching for the next optimal point.\n"
     ]
    },
    {
     "name": "stderr",
     "output_type": "stream",
     "text": [
      "2024-05-16 22:29:07,728\tINFO worker.py:1749 -- Started a local Ray instance.\n"
     ]
    },
    {
     "name": "stdout",
     "output_type": "stream",
     "text": [
      "Iteration No: 22 ended. Search finished for the next optimal point.\n",
      "Time taken: 7.8995\n",
      "Function value obtained: 1.9291\n",
      "Current minimum: 1.7782\n",
      "Iteration No: 23 started. Searching for the next optimal point.\n"
     ]
    },
    {
     "name": "stderr",
     "output_type": "stream",
     "text": [
      "2024-05-16 22:29:15,649\tINFO worker.py:1749 -- Started a local Ray instance.\n"
     ]
    },
    {
     "name": "stdout",
     "output_type": "stream",
     "text": [
      "Iteration No: 23 ended. Search finished for the next optimal point.\n",
      "Time taken: 7.1420\n",
      "Function value obtained: 2.1447\n",
      "Current minimum: 1.7782\n",
      "Iteration No: 24 started. Searching for the next optimal point.\n"
     ]
    },
    {
     "name": "stderr",
     "output_type": "stream",
     "text": [
      "2024-05-16 22:29:22,806\tINFO worker.py:1749 -- Started a local Ray instance.\n"
     ]
    },
    {
     "name": "stdout",
     "output_type": "stream",
     "text": [
      "Iteration No: 24 ended. Search finished for the next optimal point.\n",
      "Time taken: 7.2428\n",
      "Function value obtained: 1.7375\n",
      "Current minimum: 1.7375\n",
      "Iteration No: 25 started. Searching for the next optimal point.\n"
     ]
    },
    {
     "name": "stderr",
     "output_type": "stream",
     "text": [
      "2024-05-16 22:29:30,149\tINFO worker.py:1749 -- Started a local Ray instance.\n"
     ]
    },
    {
     "name": "stdout",
     "output_type": "stream",
     "text": [
      "Iteration No: 25 ended. Search finished for the next optimal point.\n",
      "Time taken: 7.1471\n",
      "Function value obtained: 1.9571\n",
      "Current minimum: 1.7375\n",
      "Iteration No: 26 started. Searching for the next optimal point.\n"
     ]
    },
    {
     "name": "stderr",
     "output_type": "stream",
     "text": [
      "2024-05-16 22:29:37,189\tINFO worker.py:1749 -- Started a local Ray instance.\n"
     ]
    },
    {
     "name": "stdout",
     "output_type": "stream",
     "text": [
      "Iteration No: 26 ended. Search finished for the next optimal point.\n",
      "Time taken: 7.9695\n",
      "Function value obtained: 1.7196\n",
      "Current minimum: 1.7196\n",
      "Iteration No: 27 started. Searching for the next optimal point.\n"
     ]
    },
    {
     "name": "stderr",
     "output_type": "stream",
     "text": [
      "2024-05-16 22:29:45,309\tINFO worker.py:1749 -- Started a local Ray instance.\n"
     ]
    },
    {
     "name": "stdout",
     "output_type": "stream",
     "text": [
      "Iteration No: 27 ended. Search finished for the next optimal point.\n",
      "Time taken: 7.4276\n",
      "Function value obtained: 1.9116\n",
      "Current minimum: 1.7196\n",
      "Iteration No: 28 started. Searching for the next optimal point.\n"
     ]
    },
    {
     "name": "stderr",
     "output_type": "stream",
     "text": [
      "2024-05-16 22:29:52,623\tINFO worker.py:1749 -- Started a local Ray instance.\n"
     ]
    },
    {
     "name": "stdout",
     "output_type": "stream",
     "text": [
      "Iteration No: 28 ended. Search finished for the next optimal point.\n",
      "Time taken: 7.0555\n",
      "Function value obtained: 5.8750\n",
      "Current minimum: 1.7196\n",
      "Iteration No: 29 started. Searching for the next optimal point.\n"
     ]
    },
    {
     "name": "stderr",
     "output_type": "stream",
     "text": [
      "2024-05-16 22:29:59,767\tINFO worker.py:1749 -- Started a local Ray instance.\n"
     ]
    },
    {
     "name": "stdout",
     "output_type": "stream",
     "text": [
      "Iteration No: 29 ended. Search finished for the next optimal point.\n",
      "Time taken: 7.3063\n",
      "Function value obtained: 1.7385\n",
      "Current minimum: 1.7196\n",
      "Iteration No: 30 started. Searching for the next optimal point.\n"
     ]
    },
    {
     "name": "stderr",
     "output_type": "stream",
     "text": [
      "2024-05-16 22:30:06,984\tINFO worker.py:1749 -- Started a local Ray instance.\n"
     ]
    },
    {
     "name": "stdout",
     "output_type": "stream",
     "text": [
      "Iteration No: 30 ended. Search finished for the next optimal point.\n",
      "Time taken: 7.0246\n",
      "Function value obtained: 1.7629\n",
      "Current minimum: 1.7196\n",
      "Iteration No: 31 started. Searching for the next optimal point.\n"
     ]
    },
    {
     "name": "stderr",
     "output_type": "stream",
     "text": [
      "2024-05-16 22:30:14,010\tINFO worker.py:1749 -- Started a local Ray instance.\n"
     ]
    },
    {
     "name": "stdout",
     "output_type": "stream",
     "text": [
      "Iteration No: 31 ended. Search finished for the next optimal point.\n",
      "Time taken: 8.0223\n",
      "Function value obtained: 1.8089\n",
      "Current minimum: 1.7196\n",
      "Iteration No: 32 started. Searching for the next optimal point.\n"
     ]
    },
    {
     "name": "stderr",
     "output_type": "stream",
     "text": [
      "2024-05-16 22:30:22,140\tINFO worker.py:1749 -- Started a local Ray instance.\n"
     ]
    },
    {
     "name": "stdout",
     "output_type": "stream",
     "text": [
      "Iteration No: 32 ended. Search finished for the next optimal point.\n",
      "Time taken: 7.3475\n",
      "Function value obtained: 1.8630\n",
      "Current minimum: 1.7196\n",
      "Iteration No: 33 started. Searching for the next optimal point.\n"
     ]
    },
    {
     "name": "stderr",
     "output_type": "stream",
     "text": [
      "2024-05-16 22:30:29,471\tINFO worker.py:1749 -- Started a local Ray instance.\n"
     ]
    },
    {
     "name": "stdout",
     "output_type": "stream",
     "text": [
      "Iteration No: 33 ended. Search finished for the next optimal point.\n",
      "Time taken: 7.1381\n",
      "Function value obtained: 2.2714\n",
      "Current minimum: 1.7196\n",
      "Iteration No: 34 started. Searching for the next optimal point.\n"
     ]
    },
    {
     "name": "stderr",
     "output_type": "stream",
     "text": [
      "2024-05-16 22:30:36,617\tINFO worker.py:1749 -- Started a local Ray instance.\n"
     ]
    },
    {
     "name": "stdout",
     "output_type": "stream",
     "text": [
      "Iteration No: 34 ended. Search finished for the next optimal point.\n",
      "Time taken: 7.0736\n",
      "Function value obtained: 5.7942\n",
      "Current minimum: 1.7196\n",
      "Iteration No: 35 started. Searching for the next optimal point.\n"
     ]
    },
    {
     "name": "stderr",
     "output_type": "stream",
     "text": [
      "2024-05-16 22:30:43,643\tINFO worker.py:1749 -- Started a local Ray instance.\n"
     ]
    },
    {
     "name": "stdout",
     "output_type": "stream",
     "text": [
      "Iteration No: 35 ended. Search finished for the next optimal point.\n",
      "Time taken: 7.1881\n",
      "Function value obtained: 4.5248\n",
      "Current minimum: 1.7196\n",
      "Iteration No: 36 started. Searching for the next optimal point.\n"
     ]
    },
    {
     "name": "stderr",
     "output_type": "stream",
     "text": [
      "2024-05-16 22:30:50,814\tINFO worker.py:1749 -- Started a local Ray instance.\n"
     ]
    },
    {
     "name": "stdout",
     "output_type": "stream",
     "text": [
      "Iteration No: 36 ended. Search finished for the next optimal point.\n",
      "Time taken: 7.3308\n",
      "Function value obtained: 1.6878\n",
      "Current minimum: 1.6878\n",
      "Iteration No: 37 started. Searching for the next optimal point.\n"
     ]
    },
    {
     "name": "stderr",
     "output_type": "stream",
     "text": [
      "2024-05-16 22:30:58,177\tINFO worker.py:1749 -- Started a local Ray instance.\n"
     ]
    },
    {
     "name": "stdout",
     "output_type": "stream",
     "text": [
      "Iteration No: 37 ended. Search finished for the next optimal point.\n",
      "Time taken: 7.1597\n",
      "Function value obtained: 8.8895\n",
      "Current minimum: 1.6878\n",
      "Iteration No: 38 started. Searching for the next optimal point.\n"
     ]
    },
    {
     "name": "stderr",
     "output_type": "stream",
     "text": [
      "2024-05-16 22:31:05,404\tINFO worker.py:1749 -- Started a local Ray instance.\n"
     ]
    },
    {
     "name": "stdout",
     "output_type": "stream",
     "text": [
      "Iteration No: 38 ended. Search finished for the next optimal point.\n",
      "Time taken: 8.1257\n",
      "Function value obtained: 4.6135\n",
      "Current minimum: 1.6878\n",
      "Iteration No: 39 started. Searching for the next optimal point.\n"
     ]
    },
    {
     "name": "stderr",
     "output_type": "stream",
     "text": [
      "2024-05-16 22:31:13,449\tINFO worker.py:1749 -- Started a local Ray instance.\n"
     ]
    },
    {
     "name": "stdout",
     "output_type": "stream",
     "text": [
      "Iteration No: 39 ended. Search finished for the next optimal point.\n",
      "Time taken: 7.2257\n",
      "Function value obtained: 7.7961\n",
      "Current minimum: 1.6878\n",
      "Iteration No: 40 started. Searching for the next optimal point.\n"
     ]
    },
    {
     "name": "stderr",
     "output_type": "stream",
     "text": [
      "2024-05-16 22:31:20,679\tINFO worker.py:1749 -- Started a local Ray instance.\n"
     ]
    },
    {
     "name": "stdout",
     "output_type": "stream",
     "text": [
      "Iteration No: 40 ended. Search finished for the next optimal point.\n",
      "Time taken: 8.0782\n",
      "Function value obtained: 7.7090\n",
      "Current minimum: 1.6878\n",
      "Iteration No: 41 started. Searching for the next optimal point.\n"
     ]
    },
    {
     "name": "stderr",
     "output_type": "stream",
     "text": [
      "2024-05-16 22:31:28,752\tINFO worker.py:1749 -- Started a local Ray instance.\n"
     ]
    },
    {
     "name": "stdout",
     "output_type": "stream",
     "text": [
      "Iteration No: 41 ended. Search finished for the next optimal point.\n",
      "Time taken: 7.3119\n",
      "Function value obtained: 1.7442\n",
      "Current minimum: 1.6878\n",
      "Iteration No: 42 started. Searching for the next optimal point.\n"
     ]
    },
    {
     "name": "stderr",
     "output_type": "stream",
     "text": [
      "2024-05-16 22:31:36,168\tINFO worker.py:1749 -- Started a local Ray instance.\n"
     ]
    },
    {
     "name": "stdout",
     "output_type": "stream",
     "text": [
      "Iteration No: 42 ended. Search finished for the next optimal point.\n",
      "Time taken: 7.3256\n",
      "Function value obtained: 7.5428\n",
      "Current minimum: 1.6878\n",
      "Iteration No: 43 started. Searching for the next optimal point.\n"
     ]
    },
    {
     "name": "stderr",
     "output_type": "stream",
     "text": [
      "2024-05-16 22:31:44,425\tINFO worker.py:1749 -- Started a local Ray instance.\n"
     ]
    },
    {
     "name": "stdout",
     "output_type": "stream",
     "text": [
      "Iteration No: 43 ended. Search finished for the next optimal point.\n",
      "Time taken: 8.2707\n",
      "Function value obtained: 8.8123\n",
      "Current minimum: 1.6878\n",
      "Iteration No: 44 started. Searching for the next optimal point.\n"
     ]
    },
    {
     "name": "stderr",
     "output_type": "stream",
     "text": [
      "2024-05-16 22:31:51,663\tINFO worker.py:1749 -- Started a local Ray instance.\n"
     ]
    },
    {
     "name": "stdout",
     "output_type": "stream",
     "text": [
      "Iteration No: 44 ended. Search finished for the next optimal point.\n",
      "Time taken: 8.0775\n",
      "Function value obtained: 7.2416\n",
      "Current minimum: 1.6878\n",
      "Iteration No: 45 started. Searching for the next optimal point.\n"
     ]
    },
    {
     "name": "stderr",
     "output_type": "stream",
     "text": [
      "2024-05-16 22:31:59,751\tINFO worker.py:1749 -- Started a local Ray instance.\n"
     ]
    },
    {
     "name": "stdout",
     "output_type": "stream",
     "text": [
      "Iteration No: 45 ended. Search finished for the next optimal point.\n",
      "Time taken: 7.9931\n",
      "Function value obtained: 4.1048\n",
      "Current minimum: 1.6878\n",
      "Iteration No: 46 started. Searching for the next optimal point.\n"
     ]
    },
    {
     "name": "stderr",
     "output_type": "stream",
     "text": [
      "2024-05-16 22:32:07,760\tINFO worker.py:1749 -- Started a local Ray instance.\n"
     ]
    },
    {
     "name": "stdout",
     "output_type": "stream",
     "text": [
      "Iteration No: 46 ended. Search finished for the next optimal point.\n",
      "Time taken: 7.3357\n",
      "Function value obtained: 10.8838\n",
      "Current minimum: 1.6878\n",
      "Iteration No: 47 started. Searching for the next optimal point.\n"
     ]
    },
    {
     "name": "stderr",
     "output_type": "stream",
     "text": [
      "2024-05-16 22:32:15,206\tINFO worker.py:1749 -- Started a local Ray instance.\n"
     ]
    },
    {
     "name": "stdout",
     "output_type": "stream",
     "text": [
      "Iteration No: 47 ended. Search finished for the next optimal point.\n",
      "Time taken: 7.4287\n",
      "Function value obtained: 6.6997\n",
      "Current minimum: 1.6878\n",
      "Iteration No: 48 started. Searching for the next optimal point.\n"
     ]
    },
    {
     "name": "stderr",
     "output_type": "stream",
     "text": [
      "2024-05-16 22:32:22,631\tINFO worker.py:1749 -- Started a local Ray instance.\n"
     ]
    },
    {
     "name": "stdout",
     "output_type": "stream",
     "text": [
      "Iteration No: 48 ended. Search finished for the next optimal point.\n",
      "Time taken: 8.4265\n",
      "Function value obtained: 5.9701\n",
      "Current minimum: 1.6878\n",
      "Iteration No: 49 started. Searching for the next optimal point.\n"
     ]
    },
    {
     "name": "stderr",
     "output_type": "stream",
     "text": [
      "2024-05-16 22:32:31,077\tINFO worker.py:1749 -- Started a local Ray instance.\n"
     ]
    },
    {
     "name": "stdout",
     "output_type": "stream",
     "text": [
      "Iteration No: 49 ended. Search finished for the next optimal point.\n",
      "Time taken: 8.1849\n",
      "Function value obtained: 6.6603\n",
      "Current minimum: 1.6878\n",
      "Iteration No: 50 started. Searching for the next optimal point.\n"
     ]
    },
    {
     "name": "stderr",
     "output_type": "stream",
     "text": [
      "2024-05-16 22:32:39,149\tINFO worker.py:1749 -- Started a local Ray instance.\n"
     ]
    },
    {
     "name": "stdout",
     "output_type": "stream",
     "text": [
      "Iteration No: 50 ended. Search finished for the next optimal point.\n",
      "Time taken: 8.1697\n",
      "Function value obtained: 8.1234\n",
      "Current minimum: 1.6878\n",
      "CPU times: user 7min 21s, sys: 9min 19s, total: 16min 41s\n",
      "Wall time: 6min 5s\n"
     ]
    },
    {
     "data": {
      "text/plain": [
       "(1.6878340780852437, [0.018989021076692904, 0.3169121824404405])"
      ]
     },
     "execution_count": 12,
     "metadata": {},
     "output_type": "execute_result"
    }
   ],
   "source": [
    "%%time\n",
    "res = gp_minimize(g, [(0.0, 1.0), (0.0, 1.0)], n_calls = 50, verbose=True)\n",
    "res.fun, res.x"
   ]
  },
  {
   "cell_type": "code",
   "execution_count": 13,
   "id": "61e8fc40-6157-4a96-9fad-74ebc4d3f7b8",
   "metadata": {},
   "outputs": [
    {
     "data": {
      "text/plain": [
       "<Axes: >"
      ]
     },
     "execution_count": 13,
     "metadata": {},
     "output_type": "execute_result"
    },
    {
     "data": {
      "image/png": "[encoded data removed]",
      "text/plain": [
       "<Figure size 400x400 with 5 Axes>"
      ]
     },
     "metadata": {},
     "output_type": "display_data"
    }
   ],
   "source": [
    "plot_objective(res)"
   ]
  },
  {
   "cell_type": "code",
   "execution_count": null,
   "id": "4c5c2ec8-f61b-4dae-bc1b-ba70310a694b",
   "metadata": {},
   "outputs": [],
   "source": [
    "# %%time\n",
    "# res = gbrt_minimize(g, [(0.0, 0.3), (0, 0.3)], n_calls = 300)\n",
    "# res.fun, res.x"
   ]
  },
  {
   "cell_type": "markdown",
   "id": "d2346c45-e588-45ab-b7a8-5677a60ac8e9",
   "metadata": {},
   "source": [
    "## Test solution"
   ]
  },
  {
   "cell_type": "code",
   "execution_count": 1,
   "id": "01b2030d-e7df-4243-9203-d602e74aa9a8",
   "metadata": {},
   "outputs": [
    {
     "ename": "NameError",
     "evalue": "name 'Caribou' is not defined",
     "output_type": "error",
     "traceback": [
      "\u001b[0;31m---------------------------------------------------------------------------\u001b[0m",
      "\u001b[0;31mNameError\u001b[0m                                 Traceback (most recent call last)",
      "Cell \u001b[0;32mIn[1], line 1\u001b[0m\n\u001b[0;32m----> 1\u001b[0m carib \u001b[38;5;241m=\u001b[39m \u001b[43mCaribou\u001b[49m(config\u001b[38;5;241m=\u001b[39mconfig)\n\u001b[1;32m      3\u001b[0m null_action \u001b[38;5;241m=\u001b[39m \u001b[38;5;241m-\u001b[39m np\u001b[38;5;241m.\u001b[39mones(\u001b[38;5;241m2\u001b[39m, dtype\u001b[38;5;241m=\u001b[39mnp\u001b[38;5;241m.\u001b[39mfloat32)\n\u001b[1;32m      4\u001b[0m high_action \u001b[38;5;241m=\u001b[39m \u001b[38;5;241m0.5\u001b[39m \u001b[38;5;241m*\u001b[39m np\u001b[38;5;241m.\u001b[39mones(\u001b[38;5;241m2\u001b[39m, dtype\u001b[38;5;241m=\u001b[39mnp\u001b[38;5;241m.\u001b[39mfloat32)\n",
      "\u001b[0;31mNameError\u001b[0m: name 'Caribou' is not defined"
     ]
    }
   ],
   "source": [
    "carib = Caribou(config=config)\n",
    "\n",
    "null_action = - np.ones(2, dtype=np.float32)\n",
    "high_action = 0.5 * np.ones(2, dtype=np.float32)\n",
    "all_wolves = np.float32([0.0, 0.5])\n",
    "all_moose = np.float32([0.5, 0.0])\n",
    "# an_effort = np.float32(res.x)\n",
    "an_effort = np.float32([0.018989021076692904, 0.3169121824404405])\n",
    "\n",
    "an_action = 2 * an_effort - 1\n",
    "\n",
    "Ms, Bs, Ws, ts, rews = [], [], [], [], []\n",
    "obs, _ = carib.reset()\n",
    "ep_rew=0\n",
    "#\n",
    "pop = carib.population_units()\n",
    "Ms.append(pop[0])\n",
    "Bs.append(pop[1])\n",
    "Ws.append(pop[2])\n",
    "ts.append(0)\n",
    "rews.append(ep_rew)\n",
    "#\n",
    "for t in range(carib.Tmax):\n",
    "    ts.append(t+1)\n",
    "    obs, rew, term, trunc, info = carib.step(an_action)\n",
    "    pop = carib.population_units()\n",
    "    Ms.append(pop[0])\n",
    "    Bs.append(pop[1])\n",
    "    Ws.append(pop[2])\n",
    "    ep_rew += rew\n",
    "    rews.append(ep_rew)\n",
    "    if term or trunc:\n",
    "        break\n",
    "    \n",
    "\n",
    "ep = pd.DataFrame({\n",
    "    't': ts,\n",
    "    'm': Ms,\n",
    "    'b': Bs,\n",
    "    'w': Ws,\n",
    "})\n",
    "\n",
    "ep.plot(x='t', title=f'{ep_rew}')"
   ]
  },
  {
   "cell_type": "code",
   "execution_count": null,
   "id": "81150bac-2bb1-4a3d-bb92-390188ee85ff",
   "metadata": {},
   "outputs": [],
   "source": []
  }
 ],
 "metadata": {
  "kernelspec": {
   "display_name": "Python 3 (ipykernel)",
   "language": "python",
   "name": "python3"
  },
  "language_info": {
   "codemirror_mode": {
    "name": "ipython",
    "version": 3
   },
   "file_extension": ".py",
   "mimetype": "text/x-python",
   "name": "python",
   "nbconvert_exporter": "python",
   "pygments_lexer": "ipython3",
   "version": "3.10.12"
  }
 },
 "nbformat": 4,
 "nbformat_minor": 5
}
